{
 "cells": [
  {
   "cell_type": "code",
   "execution_count": 2,
   "metadata": {
    "ExecuteTime": {
     "end_time": "2019-12-26T07:55:12.246910Z",
     "start_time": "2019-12-26T07:54:48.960551Z"
    }
   },
   "outputs": [],
   "source": [
    "import cv2\n",
    "import numpy as np\n",
    "import time\n",
    "cap=cv2.VideoCapture('Input.mp4')\n",
    "time.sleep(3)\n",
    "\n",
    "for i in range(60):\n",
    "    ret,background=cap.read()\n",
    "\n",
    "while(cap.isOpened()):\n",
    "    ret,img=cap.read()\n",
    "    hsv=cv2.cvtColor(img,cv2.COLOR_BGR2HSV)\n",
    "    \n",
    "    lower_red=np.array([0,120,70])\n",
    "    upper_red=np.array([10,255,255])\n",
    "    mask1=cv2.inRange(hsv,lower_red,upper_red)\n",
    "    lower_red=np.array([170,120,70])\n",
    "    upper_red=np.array([180,255,255])\n",
    "    mask2=cv2.inRange(hsv,lower_red,upper_red)\n",
    "    mask1=mask1+mask2\n",
    "    mask1 = cv2.morphologyEx(mask1, cv2.MORPH_OPEN, np.ones((3,3),np.uint8),iterations=2)\n",
    "    mask1 = cv2.dilate(mask1,np.ones((3,3),np.uint8),iterations = 1)\n",
    "    mask2=cv2.bitwise_not(mask1)\n",
    "    res1=cv2.bitwise_and(img,img,mask=mask2)\n",
    "    res2=cv2.bitwise_and(background,background,mask=mask1)\n",
    "    final=cv2.addWeighted(res1,1,res2,1,0)\n",
    "    cv2.imshow(\"Harry Potter Invisible Cloak\",final)\n",
    "    k=cv2.waitKey(1)\n",
    "    if k==27:\n",
    "        break\n",
    "cv2.destroyAllWindows()"
   ]
  },
  {
   "cell_type": "code",
   "execution_count": null,
   "metadata": {},
   "outputs": [],
   "source": []
  },
  {
   "cell_type": "code",
   "execution_count": null,
   "metadata": {},
   "outputs": [],
   "source": []
  },
  {
   "cell_type": "code",
   "execution_count": null,
   "metadata": {},
   "outputs": [],
   "source": []
  },
  {
   "cell_type": "code",
   "execution_count": null,
   "metadata": {},
   "outputs": [],
   "source": []
  },
  {
   "cell_type": "code",
   "execution_count": null,
   "metadata": {},
   "outputs": [],
   "source": []
  },
  {
   "cell_type": "code",
   "execution_count": null,
   "metadata": {},
   "outputs": [],
   "source": []
  },
  {
   "cell_type": "code",
   "execution_count": null,
   "metadata": {},
   "outputs": [],
   "source": []
  },
  {
   "cell_type": "code",
   "execution_count": null,
   "metadata": {},
   "outputs": [],
   "source": []
  }
 ],
 "metadata": {
  "hide_input": false,
  "kernelspec": {
   "display_name": "Python 3",
   "language": "python",
   "name": "python3"
  },
  "language_info": {
   "codemirror_mode": {
    "name": "ipython",
    "version": 3
   },
   "file_extension": ".py",
   "mimetype": "text/x-python",
   "name": "python",
   "nbconvert_exporter": "python",
   "pygments_lexer": "ipython3",
   "version": "3.6.5"
  },
  "toc": {
   "base_numbering": 1,
   "nav_menu": {},
   "number_sections": true,
   "sideBar": true,
   "skip_h1_title": false,
   "title_cell": "Table of Contents",
   "title_sidebar": "Contents",
   "toc_cell": false,
   "toc_position": {},
   "toc_section_display": true,
   "toc_window_display": false
  }
 },
 "nbformat": 4,
 "nbformat_minor": 2
}
